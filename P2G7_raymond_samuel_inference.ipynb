{
  "nbformat": 4,
  "nbformat_minor": 0,
  "metadata": {
    "colab": {
      "provenance": [],
      "toc_visible": true
    },
    "kernelspec": {
      "name": "python3",
      "display_name": "Python 3"
    },
    "language_info": {
      "name": "python"
    }
  },
  "cells": [
    {
      "cell_type": "markdown",
      "source": [
        "# Import Libraries"
      ],
      "metadata": {
        "id": "Fwv8alvuQRCM"
      }
    },
    {
      "cell_type": "code",
      "execution_count": null,
      "metadata": {
        "id": "t7A6VKPkP7kT"
      },
      "outputs": [],
      "source": [
        "#import library\n",
        "from PIL import Image\n",
        "import pandas as pd\n",
        "import numpy as np\n",
        "import tensorflow as tf\n",
        "from tensorflow.keras.models import load_model\n",
        "from tensorflow.keras.preprocessing.image import load_img, img_to_array\n",
        "from tensorflow_hub.keras_layer import KerasLayer\n",
        "import pickle"
      ]
    },
    {
      "cell_type": "code",
      "source": [
        "# from google.colab import drive\n",
        "# drive.mount('/content/drive')"
      ],
      "metadata": {
        "colab": {
          "base_uri": "https://localhost:8080/"
        },
        "id": "mjqsduZ9u1x2",
        "outputId": "f0d8d7ab-6ac4-4c56-f342-b7ff8c0121dd"
      },
      "execution_count": null,
      "outputs": [
        {
          "output_type": "stream",
          "name": "stdout",
          "text": [
            "Mounted at /content/drive\n"
          ]
        }
      ]
    },
    {
      "cell_type": "code",
      "source": [
        "# %cd /content/drive/MyDrive/Hacktiv8/P2G7/"
      ],
      "metadata": {
        "colab": {
          "base_uri": "https://localhost:8080/"
        },
        "id": "GbiiR_IqvhNJ",
        "outputId": "b6ea7e74-8558-4275-c422-13de7c3f1ac3"
      },
      "execution_count": null,
      "outputs": [
        {
          "output_type": "stream",
          "name": "stdout",
          "text": [
            "/content/drive/.shortcut-targets-by-id/1-0THjMctaz556JuJm7itRG-8QjdEFisG/P2G7\n"
          ]
        }
      ]
    },
    {
      "cell_type": "markdown",
      "source": [
        "# Inference"
      ],
      "metadata": {
        "id": "9tc7bet1QfLK"
      }
    },
    {
      "cell_type": "code",
      "source": [
        "model = load_model('model_best.keras', custom_objects={'KerasLayer': KerasLayer})"
      ],
      "metadata": {
        "id": "xVENQnnlQe5T"
      },
      "execution_count": null,
      "outputs": []
    },
    {
      "cell_type": "code",
      "source": [
        "from PIL import Image\n",
        "\n",
        "def import_and_predict(image_data, model):\n",
        "    image = Image.open(image_data).convert('L')  # Convert image to grayscale\n",
        "    image = image.resize((48, 48))  # Resize the image\n",
        "    img_array = np.array(image).astype('float32')\n",
        "    img_array = tf.expand_dims(img_array, 0)  # Create a batch\n",
        "\n",
        "    # Normalize the image\n",
        "    img_array = img_array / 255.0\n",
        "\n",
        "    # Make prediction\n",
        "    predictions = model.predict(img_array)\n",
        "\n",
        "    # Get the class with the highest probability\n",
        "    idx = np.argmax(predictions).item()\n",
        "\n",
        "    # {'angry': 0, 'disgust': 1, 'fear': 2, 'happy': 3, 'neutral': 4, 'sad': 5, 'surprise': 6}\n",
        "    jenis = ['angry', 'disgust', 'fear', 'happy', 'neutral', 'sad', 'surprise']\n",
        "    result = f\"Prediction: {jenis[idx]}\"\n",
        "\n",
        "    return result"
      ],
      "metadata": {
        "id": "R_NZwj7SxQI5"
      },
      "execution_count": null,
      "outputs": []
    },
    {
      "cell_type": "code",
      "source": [
        "file = '32305.png'\n",
        "result = import_and_predict(file, model)"
      ],
      "metadata": {
        "id": "GY0CiCCuQrS5",
        "colab": {
          "base_uri": "https://localhost:8080/"
        },
        "outputId": "0aff675f-ee41-4247-f647-f3ccf2a7fcc1"
      },
      "execution_count": null,
      "outputs": [
        {
          "output_type": "stream",
          "name": "stdout",
          "text": [
            "1/1 [==============================] - 0s 34ms/step\n"
          ]
        }
      ]
    },
    {
      "cell_type": "code",
      "source": [
        "result"
      ],
      "metadata": {
        "colab": {
          "base_uri": "https://localhost:8080/",
          "height": 36
        },
        "id": "n6ifvIm1zHsf",
        "outputId": "a60067a0-2034-4c51-8fd5-f1224fc2c6e9"
      },
      "execution_count": null,
      "outputs": [
        {
          "output_type": "execute_result",
          "data": {
            "text/plain": [
              "'Prediction: happy'"
            ],
            "application/vnd.google.colaboratory.intrinsic+json": {
              "type": "string"
            }
          },
          "metadata": {},
          "execution_count": 34
        }
      ]
    }
  ]
}